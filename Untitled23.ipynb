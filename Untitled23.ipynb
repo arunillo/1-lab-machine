{
  "nbformat": 4,
  "nbformat_minor": 0,
  "metadata": {
    "colab": {
      "provenance": [],
      "authorship_tag": "ABX9TyOLKnAa61k0iIL5DBgLnv+R",
      "include_colab_link": true
    },
    "kernelspec": {
      "name": "python3",
      "display_name": "Python 3"
    },
    "language_info": {
      "name": "python"
    }
  },
  "cells": [
    {
      "cell_type": "markdown",
      "metadata": {
        "id": "view-in-github",
        "colab_type": "text"
      },
      "source": [
        "<a href=\"https://colab.research.google.com/github/arunillo/1-lab-machine/blob/main/Untitled23.ipynb\" target=\"_parent\"><img src=\"https://colab.research.google.com/assets/colab-badge.svg\" alt=\"Open In Colab\"/></a>"
      ]
    },
    {
      "cell_type": "code",
      "source": [
        "import pandas as pd\n",
        "import requests\n",
        "import io\n",
        "\n",
        "# простой датасет с температурами\n",
        "url = \"https://raw.githubusercontent.com/jbrownlee/Datasets/master/daily-min-temperatures.csv\"\n",
        "df = pd.read_csv(url)\n",
        "\n",
        "print(\"Первые 5 строк:\")\n",
        "print(df.head())\n",
        "\n",
        "\n",
        "print(\"Информация о данных:\")\n",
        "print(df.info())\n",
        "\n",
        "print(\"Статистика:\")\n",
        "print(df.describe())"
      ],
      "metadata": {
        "colab": {
          "base_uri": "https://localhost:8080/"
        },
        "id": "9NHmHIOaSrcS",
        "outputId": "fb3b64cb-ce59-41e4-e6c0-fad868a74eb6"
      },
      "execution_count": 10,
      "outputs": [
        {
          "output_type": "stream",
          "name": "stdout",
          "text": [
            "Первые 5 строк:\n",
            "         Date  Temp\n",
            "0  1981-01-01  20.7\n",
            "1  1981-01-02  17.9\n",
            "2  1981-01-03  18.8\n",
            "3  1981-01-04  14.6\n",
            "4  1981-01-05  15.8\n",
            "Информация о данных:\n",
            "<class 'pandas.core.frame.DataFrame'>\n",
            "RangeIndex: 3650 entries, 0 to 3649\n",
            "Data columns (total 2 columns):\n",
            " #   Column  Non-Null Count  Dtype  \n",
            "---  ------  --------------  -----  \n",
            " 0   Date    3650 non-null   object \n",
            " 1   Temp    3650 non-null   float64\n",
            "dtypes: float64(1), object(1)\n",
            "memory usage: 57.2+ KB\n",
            "None\n",
            "Статистика:\n",
            "              Temp\n",
            "count  3650.000000\n",
            "mean     11.177753\n",
            "std       4.071837\n",
            "min       0.000000\n",
            "25%       8.300000\n",
            "50%      11.000000\n",
            "75%      14.000000\n",
            "max      26.300000\n"
          ]
        }
      ]
    }
  ]
}